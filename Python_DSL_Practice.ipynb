{
 "cells": [
  {
   "cell_type": "code",
   "execution_count": 1,
   "metadata": {
    "collapsed": true
   },
   "outputs": [],
   "source": [
    "from elasticsearch import Elasticsearch\n",
    "from elasticsearch_dsl import Search"
   ]
  },
  {
   "cell_type": "code",
   "execution_count": 27,
   "metadata": {},
   "outputs": [
    {
     "data": {
      "text/plain": [
       "<Response: [<Hit(google/calendar/AVV33mgGPlyruWh1yUId): {'id_applicationName': 'calendar', 'actor_profileId': '11298...}>, <Hit(google/calendar/AVV33mgQPlyruWh1yUIf): {'geoip_countryName': 'Taiwan', 'actor_email': 'sena@cyber00...}>, <Hit(google/calendar/AVV33mhIPlyruWh1yUIq): {'id_applicationName': 'calendar', 'actor_profileId': '11298...}>, <Hit(google/calendar/AVV33mhQPlyruWh1yUIs): {'id_applicationName': 'calendar', 'actor_profileId': '11298...}>, <Hit(google/calendar/AVV33mhpPlyruWh1yUIw): {'id_applicationName': 'calendar', 'actor_profileId': '11298...}>, <Hit(google/calendar/AVV33mhpPlyruWh1yUIy): {'id_applicationName': 'calendar', 'actor_profileId': '11298...}>, <Hit(google/calendar/AVV33mhpPlyruWh1yUIz): {'id_applicationName': 'calendar', 'actor_profileId': '11298...}>, <Hit(google/calendar/AVV33moSPlyruWh1yUKK): {'geoip_countryName': 'Taiwan', 'actor_email': 'sena@cyber00...}>, <Hit(google/calendar/AVV33mogPlyruWh1yUKP): {'id_applicationName': 'calendar', 'actor_profileId': '11298...}>, <Hit(google/calendar/AVV33mogPlyruWh1yUKQ): {'id_applicationName': 'calendar', 'actor_profileId': '11298...}>]>"
      ]
     },
     "execution_count": 27,
     "metadata": {},
     "output_type": "execute_result"
    }
   ],
   "source": [
    "client = Elasticsearch()\n",
    "s = Search(using=client, index=\"google\")\\\n",
    "    .query(\"match\", actor_email=\"sena@cyber00rn.org\") \n",
    "\n",
    "s.aggs.bucket('x', 'terms', field='ipAddress')\\\n",
    "\n",
    "response = s.execute()\n",
    "response"
   ]
  },
  {
   "cell_type": "code",
   "execution_count": 10,
   "metadata": {
    "collapsed": true
   },
   "outputs": [],
   "source": [
    "client = Elasticsearch()"
   ]
  },
  {
   "cell_type": "code",
   "execution_count": 17,
   "metadata": {},
   "outputs": [],
   "source": [
    "response = client.search(\n",
    "    index=\"google_usage\",\n",
    "    body={\n",
    "        \"query\": {\n",
    "            \"bool\": {\n",
    "                \"must\": [{\"match\": {\"client_name\": \"MeisterLabs\"}}],\n",
    "                \"must_not\": [{\"match\": {\"client_name\": \"Google APIs Explorer\"}}]\n",
    "             }\n",
    "        }\n",
    "    }\n",
    ")"
   ]
  },
  {
   "cell_type": "code",
   "execution_count": 18,
   "metadata": {},
   "outputs": [
    {
     "data": {
      "text/plain": [
       "{'_shards': {'failed': 0, 'successful': 5, 'total': 5},\n",
       " 'hits': {'hits': [{'_id': '2016-01-15_119415359491.apps.googleusercontent.com',\n",
       "    '_index': 'google_usage',\n",
       "    '_score': 4.97578,\n",
       "    '_source': {'client_id': '119415359491.apps.googleusercontent.com',\n",
       "     'client_name': 'MeisterLabs',\n",
       "     'date': '2016-01-15T00:00:00+0800',\n",
       "     'num_users': 1},\n",
       "    '_type': 'customer_app'},\n",
       "   {'_id': '2016-01-22_119415359491.apps.googleusercontent.com',\n",
       "    '_index': 'google_usage',\n",
       "    '_score': 4.97578,\n",
       "    '_source': {'client_id': '119415359491.apps.googleusercontent.com',\n",
       "     'client_name': 'MeisterLabs',\n",
       "     'date': '2016-01-22T00:00:00+0800',\n",
       "     'num_users': 1},\n",
       "    '_type': 'customer_app'},\n",
       "   {'_id': '2016-01-26_119415359491.apps.googleusercontent.com',\n",
       "    '_index': 'google_usage',\n",
       "    '_score': 4.97578,\n",
       "    '_source': {'client_id': '119415359491.apps.googleusercontent.com',\n",
       "     'client_name': 'MeisterLabs',\n",
       "     'date': '2016-01-26T00:00:00+0800',\n",
       "     'num_users': 1},\n",
       "    '_type': 'customer_app'},\n",
       "   {'_id': '2016-01-31_119415359491.apps.googleusercontent.com',\n",
       "    '_index': 'google_usage',\n",
       "    '_score': 4.97578,\n",
       "    '_source': {'client_id': '119415359491.apps.googleusercontent.com',\n",
       "     'client_name': 'MeisterLabs',\n",
       "     'date': '2016-01-31T00:00:00+0800',\n",
       "     'num_users': 1},\n",
       "    '_type': 'customer_app'},\n",
       "   {'_id': '2016-02-01_119415359491.apps.googleusercontent.com',\n",
       "    '_index': 'google_usage',\n",
       "    '_score': 4.97578,\n",
       "    '_source': {'client_id': '119415359491.apps.googleusercontent.com',\n",
       "     'client_name': 'MeisterLabs',\n",
       "     'date': '2016-02-01T00:00:00+0800',\n",
       "     'num_users': 1},\n",
       "    '_type': 'customer_app'},\n",
       "   {'_id': '2016-02-16_119415359491.apps.googleusercontent.com',\n",
       "    '_index': 'google_usage',\n",
       "    '_score': 4.97578,\n",
       "    '_source': {'client_id': '119415359491.apps.googleusercontent.com',\n",
       "     'client_name': 'MeisterLabs',\n",
       "     'date': '2016-02-16T00:00:00+0800',\n",
       "     'num_users': 1},\n",
       "    '_type': 'customer_app'},\n",
       "   {'_id': '2016-03-29_119415359491.apps.googleusercontent.com',\n",
       "    '_index': 'google_usage',\n",
       "    '_score': 4.97578,\n",
       "    '_source': {'client_id': '119415359491.apps.googleusercontent.com',\n",
       "     'client_name': 'MeisterLabs',\n",
       "     'date': '2016-03-29T00:00:00+0800',\n",
       "     'num_users': 1},\n",
       "    '_type': 'customer_app'},\n",
       "   {'_id': '2016-04-04_119415359491.apps.googleusercontent.com',\n",
       "    '_index': 'google_usage',\n",
       "    '_score': 4.97578,\n",
       "    '_source': {'client_id': '119415359491.apps.googleusercontent.com',\n",
       "     'client_name': 'MeisterLabs',\n",
       "     'date': '2016-04-04T00:00:00+0800',\n",
       "     'num_users': 1},\n",
       "    '_type': 'customer_app'},\n",
       "   {'_id': '2016-04-12_119415359491.apps.googleusercontent.com',\n",
       "    '_index': 'google_usage',\n",
       "    '_score': 4.97578,\n",
       "    '_source': {'client_id': '119415359491.apps.googleusercontent.com',\n",
       "     'client_name': 'MeisterLabs',\n",
       "     'date': '2016-04-12T00:00:00+0800',\n",
       "     'num_users': 1},\n",
       "    '_type': 'customer_app'},\n",
       "   {'_id': '2016-04-13_119415359491.apps.googleusercontent.com',\n",
       "    '_index': 'google_usage',\n",
       "    '_score': 4.97578,\n",
       "    '_source': {'client_id': '119415359491.apps.googleusercontent.com',\n",
       "     'client_name': 'MeisterLabs',\n",
       "     'date': '2016-04-13T00:00:00+0800',\n",
       "     'num_users': 1},\n",
       "    '_type': 'customer_app'}],\n",
       "  'max_score': 4.97578,\n",
       "  'total': 190},\n",
       " 'timed_out': False,\n",
       " 'took': 5}"
      ]
     },
     "execution_count": 18,
     "metadata": {},
     "output_type": "execute_result"
    }
   ],
   "source": [
    "response"
   ]
  },
  {
   "cell_type": "code",
   "execution_count": null,
   "metadata": {
    "collapsed": true
   },
   "outputs": [],
   "source": []
  }
 ],
 "metadata": {
  "kernelspec": {
   "display_name": "Python 3",
   "language": "python",
   "name": "python3"
  },
  "language_info": {
   "codemirror_mode": {
    "name": "ipython",
    "version": 3
   },
   "file_extension": ".py",
   "mimetype": "text/x-python",
   "name": "python",
   "nbconvert_exporter": "python",
   "pygments_lexer": "ipython3",
   "version": "3.6.3"
  },
  "toc": {
   "base_numbering": 1,
   "nav_menu": {},
   "number_sections": true,
   "sideBar": true,
   "skip_h1_title": false,
   "title_cell": "Table of Contents",
   "title_sidebar": "Contents",
   "toc_cell": false,
   "toc_position": {},
   "toc_section_display": true,
   "toc_window_display": false
  }
 },
 "nbformat": 4,
 "nbformat_minor": 2
}
