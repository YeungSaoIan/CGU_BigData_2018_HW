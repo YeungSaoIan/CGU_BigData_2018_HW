{
 "cells": [
  {
   "cell_type": "code",
   "execution_count": 6,
   "metadata": {},
   "outputs": [],
   "source": [
    "from elasticsearch import Elasticsearch\n",
    "from elasticsearch_dsl import Search"
   ]
  },
  {
   "cell_type": "code",
   "execution_count": 11,
   "metadata": {},
   "outputs": [
    {
     "data": {
      "text/plain": [
       "<Response: [<Hit(google/calendar/AVV33migPlyruWh1yUI9): {'id_applicationName': 'calendar', 'actor_profileId': '10818...}>, <Hit(google/calendar/AVV33mkEPlyruWh1yUJT): {'id_applicationName': 'calendar', 'actor_profileId': '10818...}>, <Hit(google/calendar/AVV33mnePlyruWh1yUKC): {'id_applicationName': 'calendar', 'actor_profileId': '10818...}>, <Hit(google/calendar/AVV33mnsPlyruWh1yUKE): {'id_applicationName': 'calendar', 'actor_profileId': '10818...}>, <Hit(google/calendar/AVV33msSPlyruWh1yULC): {'id_applicationName': 'calendar', 'actor_profileId': '10818...}>, <Hit(google/calendar/AVV33muSPlyruWh1yULh): {'id_applicationName': 'calendar', 'actor_profileId': '10818...}>, <Hit(google/calendar/AVV33mxEPlyruWh1yUMA): {'geoip_countryName': 'Taiwan', 'actor_email': 'ericmao@cybe...}>, <Hit(google/calendar/AVV33mxOPlyruWh1yUMC): {'geoip_countryName': 'Taiwan', 'actor_email': 'ericmao@cybe...}>, <Hit(google/calendar/AVV33mxdPlyruWh1yUMF): {'geoip_countryName': 'Taiwan', 'actor_email': 'ericmao@cybe...}>, <Hit(google/calendar/AVV33mzgPlyruWh1yUMg): {'id_applicationName': 'calendar', 'actor_profileId': '10818...}>]>"
      ]
     },
     "execution_count": 11,
     "metadata": {},
     "output_type": "execute_result"
    }
   ],
   "source": [
    "client = Elasticsearch()\n",
    "s = Search(using=client, index=\"google\")\\\n",
    "    .query(\"match\", actor_email=\"ericmao@cyber00rn.org\") \n",
    "\n",
    "s.aggs.bucket('x', 'terms', field='event_api_kind')\\\n",
    "\n",
    "response = s.execute()\n",
    "countresult = len(response)\n",
    "response"
   ]
  },
  {
   "cell_type": "code",
   "execution_count": 12,
   "metadata": {},
   "outputs": [
    {
     "data": {
      "text/plain": [
       "10"
      ]
     },
     "execution_count": 12,
     "metadata": {},
     "output_type": "execute_result"
    }
   ],
   "source": [
    "countresult"
   ]
  },
  {
   "cell_type": "code",
   "execution_count": 4,
   "metadata": {},
   "outputs": [],
   "source": [
    "client = Elasticsearch()"
   ]
  },
  {
   "cell_type": "code",
   "execution_count": 5,
   "metadata": {},
   "outputs": [],
   "source": [
    "response = client.search(\n",
    "    index=\"google_usage\",\n",
    "    body={\n",
    "        \"query\": {\n",
    "            \"bool\": {\n",
    "                \"must\": [{\"match\": {\"client_name\": \"MeisterLabs\"}}],\n",
    "                \"must_not\": [{\"match\": {\"client_name\": \"Google APIs Explorer\"}}]\n",
    "             }\n",
    "        }\n",
    "    }\n",
    ")"
   ]
  },
  {
   "cell_type": "code",
   "execution_count": 18,
   "metadata": {},
   "outputs": [
    {
     "data": {
      "text/plain": [
       "{'_shards': {'failed': 0, 'successful': 5, 'total': 5},\n",
       " 'hits': {'hits': [{'_id': '2016-01-15_119415359491.apps.googleusercontent.com',\n",
       "    '_index': 'google_usage',\n",
       "    '_score': 4.97578,\n",
       "    '_source': {'client_id': '119415359491.apps.googleusercontent.com',\n",
       "     'client_name': 'MeisterLabs',\n",
       "     'date': '2016-01-15T00:00:00+0800',\n",
       "     'num_users': 1},\n",
       "    '_type': 'customer_app'},\n",
       "   {'_id': '2016-01-22_119415359491.apps.googleusercontent.com',\n",
       "    '_index': 'google_usage',\n",
       "    '_score': 4.97578,\n",
       "    '_source': {'client_id': '119415359491.apps.googleusercontent.com',\n",
       "     'client_name': 'MeisterLabs',\n",
       "     'date': '2016-01-22T00:00:00+0800',\n",
       "     'num_users': 1},\n",
       "    '_type': 'customer_app'},\n",
       "   {'_id': '2016-01-26_119415359491.apps.googleusercontent.com',\n",
       "    '_index': 'google_usage',\n",
       "    '_score': 4.97578,\n",
       "    '_source': {'client_id': '119415359491.apps.googleusercontent.com',\n",
       "     'client_name': 'MeisterLabs',\n",
       "     'date': '2016-01-26T00:00:00+0800',\n",
       "     'num_users': 1},\n",
       "    '_type': 'customer_app'},\n",
       "   {'_id': '2016-01-31_119415359491.apps.googleusercontent.com',\n",
       "    '_index': 'google_usage',\n",
       "    '_score': 4.97578,\n",
       "    '_source': {'client_id': '119415359491.apps.googleusercontent.com',\n",
       "     'client_name': 'MeisterLabs',\n",
       "     'date': '2016-01-31T00:00:00+0800',\n",
       "     'num_users': 1},\n",
       "    '_type': 'customer_app'},\n",
       "   {'_id': '2016-02-01_119415359491.apps.googleusercontent.com',\n",
       "    '_index': 'google_usage',\n",
       "    '_score': 4.97578,\n",
       "    '_source': {'client_id': '119415359491.apps.googleusercontent.com',\n",
       "     'client_name': 'MeisterLabs',\n",
       "     'date': '2016-02-01T00:00:00+0800',\n",
       "     'num_users': 1},\n",
       "    '_type': 'customer_app'},\n",
       "   {'_id': '2016-02-16_119415359491.apps.googleusercontent.com',\n",
       "    '_index': 'google_usage',\n",
       "    '_score': 4.97578,\n",
       "    '_source': {'client_id': '119415359491.apps.googleusercontent.com',\n",
       "     'client_name': 'MeisterLabs',\n",
       "     'date': '2016-02-16T00:00:00+0800',\n",
       "     'num_users': 1},\n",
       "    '_type': 'customer_app'},\n",
       "   {'_id': '2016-03-29_119415359491.apps.googleusercontent.com',\n",
       "    '_index': 'google_usage',\n",
       "    '_score': 4.97578,\n",
       "    '_source': {'client_id': '119415359491.apps.googleusercontent.com',\n",
       "     'client_name': 'MeisterLabs',\n",
       "     'date': '2016-03-29T00:00:00+0800',\n",
       "     'num_users': 1},\n",
       "    '_type': 'customer_app'},\n",
       "   {'_id': '2016-04-04_119415359491.apps.googleusercontent.com',\n",
       "    '_index': 'google_usage',\n",
       "    '_score': 4.97578,\n",
       "    '_source': {'client_id': '119415359491.apps.googleusercontent.com',\n",
       "     'client_name': 'MeisterLabs',\n",
       "     'date': '2016-04-04T00:00:00+0800',\n",
       "     'num_users': 1},\n",
       "    '_type': 'customer_app'},\n",
       "   {'_id': '2016-04-12_119415359491.apps.googleusercontent.com',\n",
       "    '_index': 'google_usage',\n",
       "    '_score': 4.97578,\n",
       "    '_source': {'client_id': '119415359491.apps.googleusercontent.com',\n",
       "     'client_name': 'MeisterLabs',\n",
       "     'date': '2016-04-12T00:00:00+0800',\n",
       "     'num_users': 1},\n",
       "    '_type': 'customer_app'},\n",
       "   {'_id': '2016-04-13_119415359491.apps.googleusercontent.com',\n",
       "    '_index': 'google_usage',\n",
       "    '_score': 4.97578,\n",
       "    '_source': {'client_id': '119415359491.apps.googleusercontent.com',\n",
       "     'client_name': 'MeisterLabs',\n",
       "     'date': '2016-04-13T00:00:00+0800',\n",
       "     'num_users': 1},\n",
       "    '_type': 'customer_app'}],\n",
       "  'max_score': 4.97578,\n",
       "  'total': 190},\n",
       " 'timed_out': False,\n",
       " 'took': 5}"
      ]
     },
     "execution_count": 18,
     "metadata": {},
     "output_type": "execute_result"
    }
   ],
   "source": [
    "response"
   ]
  },
  {
   "cell_type": "code",
   "execution_count": null,
   "metadata": {
    "collapsed": true
   },
   "outputs": [],
   "source": []
  }
 ],
 "metadata": {
  "kernelspec": {
   "display_name": "Python 3",
   "language": "python",
   "name": "python3"
  },
  "language_info": {
   "codemirror_mode": {
    "name": "ipython",
    "version": 3
   },
   "file_extension": ".py",
   "mimetype": "text/x-python",
   "name": "python",
   "nbconvert_exporter": "python",
   "pygments_lexer": "ipython3",
   "version": "3.6.5"
  },
  "toc": {
   "base_numbering": 1,
   "nav_menu": {},
   "number_sections": true,
   "sideBar": true,
   "skip_h1_title": false,
   "title_cell": "Table of Contents",
   "title_sidebar": "Contents",
   "toc_cell": false,
   "toc_position": {},
   "toc_section_display": true,
   "toc_window_display": false
  }
 },
 "nbformat": 4,
 "nbformat_minor": 2
}
